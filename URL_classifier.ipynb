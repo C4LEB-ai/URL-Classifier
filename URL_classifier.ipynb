{
 "cells": [
  {
   "cell_type": "code",
   "execution_count": 1,
   "metadata": {
    "id": "TdipmudLZbSY"
   },
   "outputs": [],
   "source": [
    "# importing parkages\n",
    "import numpy as np\n",
    "import pandas as pd\n",
    "import re\n",
    "pd.set_option('display.max_rows', 100)\n",
    "pd.set_option('display.max_columns', 500)\n",
    "\n",
    "import matplotlib.pyplot as plt\n",
    "%matplotlib inline\n",
    "\n",
    "import warnings\n",
    "warnings.filterwarnings('ignore')\n",
    "\n",
    "\n",
    "# Import Scikit-learn helper functions\n",
    "from sklearn.model_selection import train_test_split\n",
    "from sklearn.feature_extraction.text import TfidfVectorizer, CountVectorizer\n",
    "\n",
    "# Import Scikit-learn models\n",
    "from sklearn.linear_model import LogisticRegression\n",
    "from sklearn.naive_bayes import MultinomialNB\n",
    "\n",
    "# Import Scikit-learn metric functions\n",
    "from sklearn.metrics import confusion_matrix, classification_report\n",
    "import seaborn as sns"
   ]
  },
  {
   "cell_type": "code",
   "execution_count": 2,
   "metadata": {
    "colab": {
     "base_uri": "https://localhost:8080/"
    },
    "id": "3OkI38PCoqXU",
    "outputId": "ab01e01a-da78-490e-c69c-02e84cb756d8"
   },
   "outputs": [],
   "source": [
    "# from google.colab import drive\n",
    "# drive.mount(\"/content/drive\")"
   ]
  },
  {
   "cell_type": "code",
   "execution_count": 3,
   "metadata": {
    "colab": {
     "base_uri": "https://localhost:8080/",
     "height": 206
    },
    "id": "JPduIghbgf-X",
    "outputId": "e9438861-ac24-4842-a8bb-e23762a0f3b7"
   },
   "outputs": [
    {
     "data": {
      "text/html": [
       "<div>\n",
       "<style scoped>\n",
       "    .dataframe tbody tr th:only-of-type {\n",
       "        vertical-align: middle;\n",
       "    }\n",
       "\n",
       "    .dataframe tbody tr th {\n",
       "        vertical-align: top;\n",
       "    }\n",
       "\n",
       "    .dataframe thead th {\n",
       "        text-align: right;\n",
       "    }\n",
       "</style>\n",
       "<table border=\"1\" class=\"dataframe\">\n",
       "  <thead>\n",
       "    <tr style=\"text-align: right;\">\n",
       "      <th></th>\n",
       "      <th>1</th>\n",
       "      <th>http://www.liquidgeneration.com/</th>\n",
       "      <th>Adult</th>\n",
       "    </tr>\n",
       "  </thead>\n",
       "  <tbody>\n",
       "    <tr>\n",
       "      <th>1336269</th>\n",
       "      <td>1336271</td>\n",
       "      <td>http://www.jlcolumbia.org/</td>\n",
       "      <td>Society</td>\n",
       "    </tr>\n",
       "    <tr>\n",
       "      <th>66816</th>\n",
       "      <td>66818</td>\n",
       "      <td>http://www.cinematiks.com/</td>\n",
       "      <td>Arts</td>\n",
       "    </tr>\n",
       "    <tr>\n",
       "      <th>631124</th>\n",
       "      <td>631126</td>\n",
       "      <td>http://kiltdown.sourceforge.net/index.html</td>\n",
       "      <td>Computers</td>\n",
       "    </tr>\n",
       "    <tr>\n",
       "      <th>1288844</th>\n",
       "      <td>1288846</td>\n",
       "      <td>http://www.cf-law.com/</td>\n",
       "      <td>Society</td>\n",
       "    </tr>\n",
       "    <tr>\n",
       "      <th>157429</th>\n",
       "      <td>157431</td>\n",
       "      <td>http://www.angelfire.com/music2/oasisvip/</td>\n",
       "      <td>Arts</td>\n",
       "    </tr>\n",
       "  </tbody>\n",
       "</table>\n",
       "</div>"
      ],
      "text/plain": [
       "               1            http://www.liquidgeneration.com/      Adult\n",
       "1336269  1336271                  http://www.jlcolumbia.org/    Society\n",
       "66816      66818                  http://www.cinematiks.com/       Arts\n",
       "631124    631126  http://kiltdown.sourceforge.net/index.html  Computers\n",
       "1288844  1288846                      http://www.cf-law.com/    Society\n",
       "157429    157431   http://www.angelfire.com/music2/oasisvip/       Arts"
      ]
     },
     "execution_count": 3,
     "metadata": {},
     "output_type": "execute_result"
    }
   ],
   "source": [
    "df = pd.read_csv(\"URL Classification.csv\")\n",
    "# shuflling the dataset to have all the classes captured on the group column since my machine cannot train the volumn\n",
    "# shuffle the DataFrame rows\n",
    "df = df.sample(frac = 1)\n",
    "\n",
    "data = df.iloc[: , :]\n",
    "data.head()"
   ]
  },
  {
   "cell_type": "code",
   "execution_count": null,
   "metadata": {},
   "outputs": [],
   "source": []
  },
  {
   "cell_type": "code",
   "execution_count": null,
   "metadata": {},
   "outputs": [],
   "source": []
  },
  {
   "cell_type": "code",
   "execution_count": 4,
   "metadata": {},
   "outputs": [
    {
     "data": {
      "text/html": [
       "<div>\n",
       "<style scoped>\n",
       "    .dataframe tbody tr th:only-of-type {\n",
       "        vertical-align: middle;\n",
       "    }\n",
       "\n",
       "    .dataframe tbody tr th {\n",
       "        vertical-align: top;\n",
       "    }\n",
       "\n",
       "    .dataframe thead th {\n",
       "        text-align: right;\n",
       "    }\n",
       "</style>\n",
       "<table border=\"1\" class=\"dataframe\">\n",
       "  <thead>\n",
       "    <tr style=\"text-align: right;\">\n",
       "      <th></th>\n",
       "      <th>url</th>\n",
       "      <th>group</th>\n",
       "    </tr>\n",
       "  </thead>\n",
       "  <tbody>\n",
       "    <tr>\n",
       "      <th>0</th>\n",
       "      <td>http://www.jlcolumbia.org/</td>\n",
       "      <td>Society</td>\n",
       "    </tr>\n",
       "    <tr>\n",
       "      <th>1</th>\n",
       "      <td>http://www.cinematiks.com/</td>\n",
       "      <td>Arts</td>\n",
       "    </tr>\n",
       "    <tr>\n",
       "      <th>2</th>\n",
       "      <td>http://kiltdown.sourceforge.net/index.html</td>\n",
       "      <td>Computers</td>\n",
       "    </tr>\n",
       "    <tr>\n",
       "      <th>3</th>\n",
       "      <td>http://www.cf-law.com/</td>\n",
       "      <td>Society</td>\n",
       "    </tr>\n",
       "    <tr>\n",
       "      <th>4</th>\n",
       "      <td>http://www.angelfire.com/music2/oasisvip/</td>\n",
       "      <td>Arts</td>\n",
       "    </tr>\n",
       "  </tbody>\n",
       "</table>\n",
       "</div>"
      ],
      "text/plain": [
       "                                          url      group\n",
       "0                  http://www.jlcolumbia.org/    Society\n",
       "1                  http://www.cinematiks.com/       Arts\n",
       "2  http://kiltdown.sourceforge.net/index.html  Computers\n",
       "3                      http://www.cf-law.com/    Society\n",
       "4   http://www.angelfire.com/music2/oasisvip/       Arts"
      ]
     },
     "execution_count": 4,
     "metadata": {},
     "output_type": "execute_result"
    }
   ],
   "source": [
    "def arrange_data(data):\n",
    "    data.drop('1', axis = 1,inplace = True)\n",
    "    data.reset_index(drop = True, inplace = True)\n",
    "    data.columns = ['url', 'group']\n",
    "    return data.head()\n",
    "arrange_data(data)"
   ]
  },
  {
   "cell_type": "code",
   "execution_count": 5,
   "metadata": {
    "colab": {
     "base_uri": "https://localhost:8080/",
     "height": 310
    },
    "id": "_zVmOm2Yjcem",
    "outputId": "1d756301-291a-481b-e09e-4d546f6d532d",
    "scrolled": true
   },
   "outputs": [
    {
     "data": {
      "image/png": "[encoded data removed]",
      "text/plain": [
       "<Figure size 432x288 with 1 Axes>"
      ]
     },
     "metadata": {
      "needs_background": "light"
     },
     "output_type": "display_data"
    }
   ],
   "source": [
    "data.group.value_counts().plot(kind = \"bar\");"
   ]
  },
  {
   "cell_type": "code",
   "execution_count": 6,
   "metadata": {},
   "outputs": [],
   "source": [
    "# x = {'Arts': 1, 'Society': 2, 'Business': 3, 'Computers': 4, 'Science': 5, 'Recreation': 6, 'Sports': 7, 'Shopping': 8, 'Health': 9, 'Reference': 10, 'Games': 11, 'Kids': 12, 'Adult': 13, 'Home': 14, 'News': 15}\n",
    "# data['group'] = data['group'].map(x)\n",
    "# data.group.value_counts().plot(kind = \"bar\");"
   ]
  },
  {
   "cell_type": "code",
   "execution_count": 7,
   "metadata": {
    "colab": {
     "base_uri": "https://localhost:8080/",
     "height": 206
    },
    "id": "i0tPFB3fhWGh",
    "outputId": "6d48a7bd-6db2-4cf3-f4fc-841e901a5e81"
   },
   "outputs": [
    {
     "data": {
      "text/html": [
       "<div>\n",
       "<style scoped>\n",
       "    .dataframe tbody tr th:only-of-type {\n",
       "        vertical-align: middle;\n",
       "    }\n",
       "\n",
       "    .dataframe tbody tr th {\n",
       "        vertical-align: top;\n",
       "    }\n",
       "\n",
       "    .dataframe thead th {\n",
       "        text-align: right;\n",
       "    }\n",
       "</style>\n",
       "<table border=\"1\" class=\"dataframe\">\n",
       "  <thead>\n",
       "    <tr style=\"text-align: right;\">\n",
       "      <th></th>\n",
       "      <th>url</th>\n",
       "      <th>group</th>\n",
       "    </tr>\n",
       "  </thead>\n",
       "  <tbody>\n",
       "    <tr>\n",
       "      <th>0</th>\n",
       "      <td>http://www.jlcolumbia.org/</td>\n",
       "      <td>Society</td>\n",
       "    </tr>\n",
       "    <tr>\n",
       "      <th>1</th>\n",
       "      <td>http://www.cinematiks.com/</td>\n",
       "      <td>Arts</td>\n",
       "    </tr>\n",
       "    <tr>\n",
       "      <th>2</th>\n",
       "      <td>http://kiltdown.sourceforge.net/index.html</td>\n",
       "      <td>Computers</td>\n",
       "    </tr>\n",
       "    <tr>\n",
       "      <th>3</th>\n",
       "      <td>http://www.cf-law.com/</td>\n",
       "      <td>Society</td>\n",
       "    </tr>\n",
       "    <tr>\n",
       "      <th>4</th>\n",
       "      <td>http://www.angelfire.com/music2/oasisvip/</td>\n",
       "      <td>Arts</td>\n",
       "    </tr>\n",
       "  </tbody>\n",
       "</table>\n",
       "</div>"
      ],
      "text/plain": [
       "                                          url      group\n",
       "0                  http://www.jlcolumbia.org/    Society\n",
       "1                  http://www.cinematiks.com/       Arts\n",
       "2  http://kiltdown.sourceforge.net/index.html  Computers\n",
       "3                      http://www.cf-law.com/    Society\n",
       "4   http://www.angelfire.com/music2/oasisvip/       Arts"
      ]
     },
     "execution_count": 7,
     "metadata": {},
     "output_type": "execute_result"
    }
   ],
   "source": [
    "data.head()"
   ]
  },
  {
   "cell_type": "code",
   "execution_count": 8,
   "metadata": {
    "colab": {
     "base_uri": "https://localhost:8080/"
    },
    "id": "5po55ObAhqWn",
    "outputId": "ff5c6c8c-5dcd-4887-b303-7af37dd73dfc"
   },
   "outputs": [
    {
     "data": {
      "text/plain": [
       "(1562977, 2)"
      ]
     },
     "execution_count": 8,
     "metadata": {},
     "output_type": "execute_result"
    }
   ],
   "source": [
    "data.shape"
   ]
  },
  {
   "cell_type": "code",
   "execution_count": 9,
   "metadata": {
    "colab": {
     "base_uri": "https://localhost:8080/"
    },
    "id": "VOt0rBVsh23E",
    "outputId": "e0bb19d5-cac3-4bb9-acd8-4b915294a7cf"
   },
   "outputs": [
    {
     "data": {
      "text/plain": [
       "url      3\n",
       "group    0\n",
       "dtype: int64"
      ]
     },
     "execution_count": 9,
     "metadata": {},
     "output_type": "execute_result"
    }
   ],
   "source": [
    "data.isnull().sum()"
   ]
  },
  {
   "cell_type": "code",
   "execution_count": 10,
   "metadata": {
    "id": "9iRAqmXHh_wM"
   },
   "outputs": [],
   "source": [
    "data.dropna(inplace = True)"
   ]
  },
  {
   "cell_type": "code",
   "execution_count": 11,
   "metadata": {
    "colab": {
     "base_uri": "https://localhost:8080/"
    },
    "id": "fWG5uIZOiOop",
    "outputId": "964e16fd-f5e1-4f60-e8d2-e044afacd610"
   },
   "outputs": [
    {
     "data": {
      "text/plain": [
       "url      0\n",
       "group    0\n",
       "dtype: int64"
      ]
     },
     "execution_count": 11,
     "metadata": {},
     "output_type": "execute_result"
    }
   ],
   "source": [
    "data.isnull().sum()"
   ]
  },
  {
   "cell_type": "code",
   "execution_count": 12,
   "metadata": {
    "colab": {
     "base_uri": "https://localhost:8080/"
    },
    "id": "86NSWu1ShseK",
    "outputId": "bfb5c621-b0d9-4935-9c60-0e749cd2d34e"
   },
   "outputs": [
    {
     "data": {
      "text/plain": [
       "Arts          253840\n",
       "Society       243942\n",
       "Business      240176\n",
       "Computers     117961\n",
       "Science       110286\n",
       "Recreation    106586\n",
       "Sports        101328\n",
       "Shopping       95270\n",
       "Health         60097\n",
       "Reference      58247\n",
       "Games          56477\n",
       "Kids           46182\n",
       "Adult          35324\n",
       "Home           28269\n",
       "News            8989\n",
       "Name: group, dtype: int64"
      ]
     },
     "execution_count": 12,
     "metadata": {},
     "output_type": "execute_result"
    }
   ],
   "source": [
    "data.group.value_counts()"
   ]
  },
  {
   "cell_type": "code",
   "execution_count": 13,
   "metadata": {
    "colab": {
     "base_uri": "https://localhost:8080/",
     "height": 310
    },
    "id": "CNgBoziehw-3",
    "outputId": "ec00d0e8-e8d3-46d5-f70f-918c934c44b9"
   },
   "outputs": [
    {
     "data": {
      "image/png": "[encoded data removed]",
      "text/plain": [
       "<Figure size 432x288 with 1 Axes>"
      ]
     },
     "metadata": {
      "needs_background": "light"
     },
     "output_type": "display_data"
    }
   ],
   "source": [
    "data.group.value_counts().plot(kind = \"bar\");"
   ]
  },
  {
   "cell_type": "code",
   "execution_count": 14,
   "metadata": {
    "colab": {
     "base_uri": "https://localhost:8080/"
    },
    "id": "2XBnY4LYiRBB",
    "outputId": "66b19b0a-0bf9-4af1-bba0-c1281c197be4"
   },
   "outputs": [
    {
     "data": {
      "text/plain": [
       "array(['Society', 'Arts', 'Computers', 'Reference', 'Business', 'Health',\n",
       "       'Sports', 'Science', 'Kids', 'Recreation', 'Shopping', 'Adult',\n",
       "       'Home', 'Games', 'News'], dtype=object)"
      ]
     },
     "execution_count": 14,
     "metadata": {},
     "output_type": "execute_result"
    }
   ],
   "source": [
    "data.group.unique()"
   ]
  },
  {
   "cell_type": "markdown",
   "metadata": {
    "id": "kdlViWLSohUJ"
   },
   "source": []
  },
  {
   "cell_type": "code",
   "execution_count": 15,
   "metadata": {
    "colab": {
     "base_uri": "https://localhost:8080/",
     "height": 683
    },
    "id": "YqvGBPee_7wm",
    "outputId": "314f5516-0973-45c2-c5d2-a228973df745"
   },
   "outputs": [
    {
     "data": {
      "image/png": "[encoded data removed]",
      "text/plain": [
       "<Figure size 864x864 with 1 Axes>"
      ]
     },
     "metadata": {},
     "output_type": "display_data"
    }
   ],
   "source": [
    "data.group.value_counts().plot(kind = \"pie\",figsize = (12,12),y = \"url\",\n",
    "                                       label = \"Type\",\n",
    "                                       autopct='%1.3f%%');"
   ]
  },
  {
   "cell_type": "code",
   "execution_count": 16,
   "metadata": {
    "colab": {
     "base_uri": "https://localhost:8080/",
     "height": 206
    },
    "id": "qhU_n87WCR5z",
    "outputId": "4536e02e-94a0-46d8-cb30-5617a31dc3b0"
   },
   "outputs": [
    {
     "data": {
      "text/html": [
       "<div>\n",
       "<style scoped>\n",
       "    .dataframe tbody tr th:only-of-type {\n",
       "        vertical-align: middle;\n",
       "    }\n",
       "\n",
       "    .dataframe tbody tr th {\n",
       "        vertical-align: top;\n",
       "    }\n",
       "\n",
       "    .dataframe thead th {\n",
       "        text-align: right;\n",
       "    }\n",
       "</style>\n",
       "<table border=\"1\" class=\"dataframe\">\n",
       "  <thead>\n",
       "    <tr style=\"text-align: right;\">\n",
       "      <th></th>\n",
       "      <th>url</th>\n",
       "      <th>group</th>\n",
       "    </tr>\n",
       "  </thead>\n",
       "  <tbody>\n",
       "    <tr>\n",
       "      <th>0</th>\n",
       "      <td>http://roots.iai.uni-bonn.de/research/jmangler/</td>\n",
       "      <td>Computers</td>\n",
       "    </tr>\n",
       "    <tr>\n",
       "      <th>1</th>\n",
       "      <td>http://www.macmhb.org/subabuse02/satp.htm</td>\n",
       "      <td>Health</td>\n",
       "    </tr>\n",
       "    <tr>\n",
       "      <th>2</th>\n",
       "      <td>http://www.merz-sw.com/</td>\n",
       "      <td>Business</td>\n",
       "    </tr>\n",
       "    <tr>\n",
       "      <th>3</th>\n",
       "      <td>http://www.wslha.org/</td>\n",
       "      <td>Society</td>\n",
       "    </tr>\n",
       "    <tr>\n",
       "      <th>4</th>\n",
       "      <td>http://www.computerandvideogames.com/news/news...</td>\n",
       "      <td>Games</td>\n",
       "    </tr>\n",
       "  </tbody>\n",
       "</table>\n",
       "</div>"
      ],
      "text/plain": [
       "                                                 url      group\n",
       "0    http://roots.iai.uni-bonn.de/research/jmangler/  Computers\n",
       "1          http://www.macmhb.org/subabuse02/satp.htm     Health\n",
       "2                            http://www.merz-sw.com/   Business\n",
       "3                              http://www.wslha.org/    Society\n",
       "4  http://www.computerandvideogames.com/news/news...      Games"
      ]
     },
     "execution_count": 16,
     "metadata": {},
     "output_type": "execute_result"
    }
   ],
   "source": [
    "data = data.sample(frac = 1)\n",
    "data = data.reset_index(drop = True)\n",
    "data.head()"
   ]
  },
  {
   "cell_type": "markdown",
   "metadata": {
    "id": "nIbUZ96hIHXO"
   },
   "source": [
    "## Splitting the dataset"
   ]
  },
  {
   "cell_type": "code",
   "execution_count": 17,
   "metadata": {
    "id": "Kqg0NHfsHbeO"
   },
   "outputs": [],
   "source": [
    "# train_df, test_df = train_test_split(data, test_size = 0.3, random_state = 42)\n",
    "\n",
    "# labels = train_df['group']\n",
    "# test_labels = test_df['group']"
   ]
  },
  {
   "cell_type": "code",
   "execution_count": 18,
   "metadata": {
    "colab": {
     "base_uri": "https://localhost:8080/"
    },
    "id": "C0btHY51Hcdh",
    "outputId": "cb8668bc-21ca-4a22-b88c-299a010dd70f"
   },
   "outputs": [
    {
     "data": {
      "text/plain": [
       "(1562974, 2)"
      ]
     },
     "execution_count": 18,
     "metadata": {},
     "output_type": "execute_result"
    }
   ],
   "source": [
    "data.shape"
   ]
  },
  {
   "cell_type": "code",
   "execution_count": null,
   "metadata": {},
   "outputs": [],
   "source": []
  },
  {
   "cell_type": "code",
   "execution_count": 19,
   "metadata": {
    "id": "wmqYcRhHHc7_"
   },
   "outputs": [],
   "source": [
    "# def makeTokens(f):\n",
    "#   # make tokens after splitting by slash\n",
    "#     tkns_BySlash = str(f.encode('utf-8')).split('/')\t\n",
    "#     total_Tokens = []\n",
    "#     for i in tkns_BySlash:\n",
    "#       # make tokens after splitting by dash\n",
    "#         tokens = str(i).split('-')\n",
    "#         tkns_ByDot = []\n",
    "#         for j in range(0,len(tokens)):\n",
    "#           # make tokens after splitting by dot\n",
    "#             temp_Tokens = str(tokens[j]).split('.')\t\n",
    "#             tkns_ByDot = tkns_ByDot + temp_Tokens\n",
    "#         total_Tokens = total_Tokens + tokens + tkns_ByDot\n",
    "#         #remove redundant tokens\n",
    "#     total_Tokens = list(set(total_Tokens))\t\n",
    "#     if 'com' in total_Tokens:\n",
    "#       #removing .com since it occurs a lot of times and it should not be included in our features\n",
    "#         total_Tokens.remove('com')\t\n",
    "#     return total_Tokens"
   ]
  },
  {
   "cell_type": "markdown",
   "metadata": {
    "id": "pCkVHB_LnyrD"
   },
   "source": [
    "## testing our tokenizer function\n"
   ]
  },
  {
   "cell_type": "code",
   "execution_count": 20,
   "metadata": {
    "colab": {
     "base_uri": "https://localhost:8080/"
    },
    "id": "BXivS3DrHdCC",
    "outputId": "03dfd270-ef2d-4ee9-974b-abb78259f4aa"
   },
   "outputs": [],
   "source": [
    "# #using the 8th url on our dataset to test our tokenizer function\n",
    "# tokenized = makeTokens(data[\"url\"][8])\n",
    "# print(\"ORIGINAL URL: \\n\\n\", data[\"url\"][8])\n",
    "# print(\"\\nTOKENIZED URL: \\n\\n\", tokenized)"
   ]
  },
  {
   "cell_type": "code",
   "execution_count": 21,
   "metadata": {
    "colab": {
     "base_uri": "https://localhost:8080/"
    },
    "id": "5yCaHQCRHdHa",
    "outputId": "0e295977-08f4-4459-9064-8ca7a01129c9"
   },
   "outputs": [],
   "source": [
    "# #     1. Count vectorizer\n",
    "# #     2. Term Frequency-Inverse Document Frequency (TF-IDF)\n",
    "\n",
    "# print(\"- Training Count Vectorizer -\")\n",
    "# cVec = CountVectorizer()\n",
    "# count_X = cVec.fit_transform(data['url'].values)\n",
    "\n",
    "# print(\"- Training TF-IDF Vectorizer -\")\n",
    "# tVec = TfidfVectorizer(tokenizer=makeTokens)\n",
    "# tfidf_X = tVec.fit_transform(data['url'])\n",
    "\n",
    "\n",
    "# print(\"\\n### Vectorizing Complete ###\\n\")"
   ]
  },
  {
   "cell_type": "markdown",
   "metadata": {
    "id": "5pVI0gb4zBHf"
   },
   "source": [
    "# Building Our Base Model\n",
    "- PIPELINE"
   ]
  },
  {
   "cell_type": "code",
   "execution_count": 22,
   "metadata": {},
   "outputs": [],
   "source": [
    "# from sklearn.pipeline import make_pipeline\n",
    "# from sklearn.model_selection import cross_validate\n",
    "\n",
    "# X_train, X_test, y_train, y_test = train_test_split(X,y, test_size=.30, random_state=42)\n",
    "# pipe_nb = make_pipeline(\n",
    "#     CountVectorizer(),\n",
    "#     MultinomialNB()\n",
    "# )\n",
    "# scores = cross_validate(pipe_nb, X_train, y_train, return_train_score=True)\n",
    "# scores = pd.DataFrame(scores)"
   ]
  },
  {
   "cell_type": "code",
   "execution_count": 23,
   "metadata": {},
   "outputs": [],
   "source": [
    "# scores.mean()"
   ]
  },
  {
   "cell_type": "code",
   "execution_count": null,
   "metadata": {},
   "outputs": [],
   "source": []
  },
  {
   "cell_type": "markdown",
   "metadata": {
    "id": "0p9wRlfeh694"
   },
   "source": [
    "# Tokenization using regexTokenizer\n",
    "Create our tokenizer by splitting URLs into their domains, subdomains, directories, files, and extensions.\n",
    "\n",
    "#### RegexpTokenizer\n",
    "A tokenizer that splits a string using a regular expression, which matches either the tokens or the separators between tokens."
   ]
  },
  {
   "cell_type": "code",
   "execution_count": 24,
   "metadata": {},
   "outputs": [],
   "source": [
    "from nltk.tokenize import RegexpTokenizer # regexp tokenizers use to split words from text \n",
    "tokenizer = RegexpTokenizer(r'[A-Za-z]+')"
   ]
  },
  {
   "cell_type": "code",
   "execution_count": 25,
   "metadata": {},
   "outputs": [
    {
     "data": {
      "text/plain": [
       "(1562974, 2)"
      ]
     },
     "execution_count": 25,
     "metadata": {},
     "output_type": "execute_result"
    }
   ],
   "source": [
    "data.shape"
   ]
  },
  {
   "cell_type": "code",
   "execution_count": 26,
   "metadata": {},
   "outputs": [
    {
     "data": {
      "text/plain": [
       "'http://roots.iai.uni-bonn.de/research/jmangler/'"
      ]
     },
     "execution_count": 26,
     "metadata": {},
     "output_type": "execute_result"
    }
   ],
   "source": [
    "data.url[0]"
   ]
  },
  {
   "cell_type": "code",
   "execution_count": 27,
   "metadata": {},
   "outputs": [
    {
     "data": {
      "text/plain": [
       "155836"
      ]
     },
     "execution_count": 27,
     "metadata": {},
     "output_type": "execute_result"
    }
   ],
   "source": [
    "# this will be pull letter which matches to expression\n",
    "# tokenizer.tokenize(data.url[90000]) \n",
    "\n",
    "\n",
    "# using first row\n",
    "\n",
    "data = data.loc[:156297, :]\n",
    "data.url.nunique()"
   ]
  },
  {
   "cell_type": "code",
   "execution_count": 28,
   "metadata": {},
   "outputs": [],
   "source": [
    "# print('Getting words tokenized ...')\n",
    "# t0= time.perf_counter()\n",
    "data['text_tokenized'] = data.url.map(lambda t: tokenizer.tokenize(t)) # doing with all rows\n",
    "# t1 = time.perf_counter() - t0\n",
    "# print('Time taken',t1 ,'sec')"
   ]
  },
  {
   "cell_type": "code",
   "execution_count": 29,
   "metadata": {
    "scrolled": true
   },
   "outputs": [
    {
     "data": {
      "text/html": [
       "<div>\n",
       "<style scoped>\n",
       "    .dataframe tbody tr th:only-of-type {\n",
       "        vertical-align: middle;\n",
       "    }\n",
       "\n",
       "    .dataframe tbody tr th {\n",
       "        vertical-align: top;\n",
       "    }\n",
       "\n",
       "    .dataframe thead th {\n",
       "        text-align: right;\n",
       "    }\n",
       "</style>\n",
       "<table border=\"1\" class=\"dataframe\">\n",
       "  <thead>\n",
       "    <tr style=\"text-align: right;\">\n",
       "      <th></th>\n",
       "      <th>url</th>\n",
       "      <th>group</th>\n",
       "      <th>text_tokenized</th>\n",
       "    </tr>\n",
       "  </thead>\n",
       "  <tbody>\n",
       "    <tr>\n",
       "      <th>156278</th>\n",
       "      <td>http://www.affordablehousingsc.org</td>\n",
       "      <td>Business</td>\n",
       "      <td>[http, www, affordablehousingsc, org]</td>\n",
       "    </tr>\n",
       "    <tr>\n",
       "      <th>156279</th>\n",
       "      <td>http://oralsexshot.com/09/cyberage/</td>\n",
       "      <td>Adult</td>\n",
       "      <td>[http, oralsexshot, com, cyberage]</td>\n",
       "    </tr>\n",
       "    <tr>\n",
       "      <th>156280</th>\n",
       "      <td>http://www.gpdemolay.org/</td>\n",
       "      <td>Kids</td>\n",
       "      <td>[http, www, gpdemolay, org]</td>\n",
       "    </tr>\n",
       "    <tr>\n",
       "      <th>156281</th>\n",
       "      <td>http://www.essexskatingclub.org/skaters/skater...</td>\n",
       "      <td>Sports</td>\n",
       "      <td>[http, www, essexskatingclub, org, skaters, sk...</td>\n",
       "    </tr>\n",
       "    <tr>\n",
       "      <th>156282</th>\n",
       "      <td>http://www.sullivanhomeplans.com</td>\n",
       "      <td>Business</td>\n",
       "      <td>[http, www, sullivanhomeplans, com]</td>\n",
       "    </tr>\n",
       "    <tr>\n",
       "      <th>156283</th>\n",
       "      <td>http://www.cwnews.com/</td>\n",
       "      <td>Society</td>\n",
       "      <td>[http, www, cwnews, com]</td>\n",
       "    </tr>\n",
       "    <tr>\n",
       "      <th>156284</th>\n",
       "      <td>http://www.meadowtreasures.com/</td>\n",
       "      <td>Shopping</td>\n",
       "      <td>[http, www, meadowtreasures, com]</td>\n",
       "    </tr>\n",
       "    <tr>\n",
       "      <th>156285</th>\n",
       "      <td>http://www.marineac.com</td>\n",
       "      <td>Business</td>\n",
       "      <td>[http, www, marineac, com]</td>\n",
       "    </tr>\n",
       "    <tr>\n",
       "      <th>156286</th>\n",
       "      <td>http://www.octanecreative.com/ducttape/</td>\n",
       "      <td>Recreation</td>\n",
       "      <td>[http, www, octanecreative, com, ducttape]</td>\n",
       "    </tr>\n",
       "    <tr>\n",
       "      <th>156287</th>\n",
       "      <td>http://www.stevenwbush.com</td>\n",
       "      <td>Arts</td>\n",
       "      <td>[http, www, stevenwbush, com]</td>\n",
       "    </tr>\n",
       "    <tr>\n",
       "      <th>156288</th>\n",
       "      <td>http://www.pplir.org/</td>\n",
       "      <td>Recreation</td>\n",
       "      <td>[http, www, pplir, org]</td>\n",
       "    </tr>\n",
       "    <tr>\n",
       "      <th>156289</th>\n",
       "      <td>http://www.ewtn.com/library/encyc/p9respic.htm</td>\n",
       "      <td>Society</td>\n",
       "      <td>[http, www, ewtn, com, library, encyc, p, resp...</td>\n",
       "    </tr>\n",
       "    <tr>\n",
       "      <th>156290</th>\n",
       "      <td>http://www.canismajor.com/dog/groom1.html</td>\n",
       "      <td>Recreation</td>\n",
       "      <td>[http, www, canismajor, com, dog, groom, html]</td>\n",
       "    </tr>\n",
       "    <tr>\n",
       "      <th>156291</th>\n",
       "      <td>http://www.charlesdeleau.com/</td>\n",
       "      <td>Sports</td>\n",
       "      <td>[http, www, charlesdeleau, com]</td>\n",
       "    </tr>\n",
       "    <tr>\n",
       "      <th>156292</th>\n",
       "      <td>http://www.planetplants.com</td>\n",
       "      <td>Shopping</td>\n",
       "      <td>[http, www, planetplants, com]</td>\n",
       "    </tr>\n",
       "    <tr>\n",
       "      <th>156293</th>\n",
       "      <td>http://www.bdel.com/</td>\n",
       "      <td>Business</td>\n",
       "      <td>[http, www, bdel, com]</td>\n",
       "    </tr>\n",
       "    <tr>\n",
       "      <th>156294</th>\n",
       "      <td>http://www.chicagooperatheater.org/</td>\n",
       "      <td>Arts</td>\n",
       "      <td>[http, www, chicagooperatheater, org]</td>\n",
       "    </tr>\n",
       "    <tr>\n",
       "      <th>156295</th>\n",
       "      <td>http://www.gamerevolution.com/oldsite/games/ps...</td>\n",
       "      <td>Games</td>\n",
       "      <td>[http, www, gamerevolution, com, oldsite, game...</td>\n",
       "    </tr>\n",
       "    <tr>\n",
       "      <th>156296</th>\n",
       "      <td>http://www.godknewyourname.com/</td>\n",
       "      <td>Shopping</td>\n",
       "      <td>[http, www, godknewyourname, com]</td>\n",
       "    </tr>\n",
       "    <tr>\n",
       "      <th>156297</th>\n",
       "      <td>http://www.asbestosnet.com</td>\n",
       "      <td>Science</td>\n",
       "      <td>[http, www, asbestosnet, com]</td>\n",
       "    </tr>\n",
       "  </tbody>\n",
       "</table>\n",
       "</div>"
      ],
      "text/plain": [
       "                                                      url       group  \\\n",
       "156278                 http://www.affordablehousingsc.org    Business   \n",
       "156279                http://oralsexshot.com/09/cyberage/       Adult   \n",
       "156280                          http://www.gpdemolay.org/        Kids   \n",
       "156281  http://www.essexskatingclub.org/skaters/skater...      Sports   \n",
       "156282                   http://www.sullivanhomeplans.com    Business   \n",
       "156283                             http://www.cwnews.com/     Society   \n",
       "156284                    http://www.meadowtreasures.com/    Shopping   \n",
       "156285                            http://www.marineac.com    Business   \n",
       "156286            http://www.octanecreative.com/ducttape/  Recreation   \n",
       "156287                         http://www.stevenwbush.com        Arts   \n",
       "156288                              http://www.pplir.org/  Recreation   \n",
       "156289     http://www.ewtn.com/library/encyc/p9respic.htm     Society   \n",
       "156290          http://www.canismajor.com/dog/groom1.html  Recreation   \n",
       "156291                      http://www.charlesdeleau.com/      Sports   \n",
       "156292                        http://www.planetplants.com    Shopping   \n",
       "156293                               http://www.bdel.com/    Business   \n",
       "156294                http://www.chicagooperatheater.org/        Arts   \n",
       "156295  http://www.gamerevolution.com/oldsite/games/ps...       Games   \n",
       "156296                    http://www.godknewyourname.com/    Shopping   \n",
       "156297                         http://www.asbestosnet.com     Science   \n",
       "\n",
       "                                           text_tokenized  \n",
       "156278              [http, www, affordablehousingsc, org]  \n",
       "156279                 [http, oralsexshot, com, cyberage]  \n",
       "156280                        [http, www, gpdemolay, org]  \n",
       "156281  [http, www, essexskatingclub, org, skaters, sk...  \n",
       "156282                [http, www, sullivanhomeplans, com]  \n",
       "156283                           [http, www, cwnews, com]  \n",
       "156284                  [http, www, meadowtreasures, com]  \n",
       "156285                         [http, www, marineac, com]  \n",
       "156286         [http, www, octanecreative, com, ducttape]  \n",
       "156287                      [http, www, stevenwbush, com]  \n",
       "156288                            [http, www, pplir, org]  \n",
       "156289  [http, www, ewtn, com, library, encyc, p, resp...  \n",
       "156290     [http, www, canismajor, com, dog, groom, html]  \n",
       "156291                    [http, www, charlesdeleau, com]  \n",
       "156292                     [http, www, planetplants, com]  \n",
       "156293                             [http, www, bdel, com]  \n",
       "156294              [http, www, chicagooperatheater, org]  \n",
       "156295  [http, www, gamerevolution, com, oldsite, game...  \n",
       "156296                  [http, www, godknewyourname, com]  \n",
       "156297                      [http, www, asbestosnet, com]  "
      ]
     },
     "execution_count": 29,
     "metadata": {},
     "output_type": "execute_result"
    }
   ],
   "source": [
    "data.tail(20)"
   ]
  },
  {
   "cell_type": "markdown",
   "metadata": {},
   "source": [
    "## SnowballStemmer\n",
    "Snowball is a small string processing language, gives root words\n"
   ]
  },
  {
   "cell_type": "code",
   "execution_count": 30,
   "metadata": {},
   "outputs": [],
   "source": [
    "from nltk.stem.snowball import SnowballStemmer # stemmes words\n",
    "stemmer = SnowballStemmer(\"english\") # choose a language\n",
    "\n",
    "\n",
    "data['text_stemmed'] = data['text_tokenized'].map(lambda l: [stemmer.stem(word) for word in l])\n",
    "\n",
    "data['text_sent'] = data['text_stemmed'].map(lambda l: ' '.join(l))\n",
    "\n"
   ]
  },
  {
   "cell_type": "code",
   "execution_count": 31,
   "metadata": {},
   "outputs": [
    {
     "data": {
      "text/html": [
       "<div>\n",
       "<style scoped>\n",
       "    .dataframe tbody tr th:only-of-type {\n",
       "        vertical-align: middle;\n",
       "    }\n",
       "\n",
       "    .dataframe tbody tr th {\n",
       "        vertical-align: top;\n",
       "    }\n",
       "\n",
       "    .dataframe thead th {\n",
       "        text-align: right;\n",
       "    }\n",
       "</style>\n",
       "<table border=\"1\" class=\"dataframe\">\n",
       "  <thead>\n",
       "    <tr style=\"text-align: right;\">\n",
       "      <th></th>\n",
       "      <th>url</th>\n",
       "      <th>group</th>\n",
       "      <th>text_tokenized</th>\n",
       "      <th>text_stemmed</th>\n",
       "      <th>text_sent</th>\n",
       "    </tr>\n",
       "  </thead>\n",
       "  <tbody>\n",
       "    <tr>\n",
       "      <th>0</th>\n",
       "      <td>http://roots.iai.uni-bonn.de/research/jmangler/</td>\n",
       "      <td>Computers</td>\n",
       "      <td>[http, roots, iai, uni, bonn, de, research, jm...</td>\n",
       "      <td>[http, root, iai, uni, bonn, de, research, jma...</td>\n",
       "      <td>http root iai uni bonn de research jmangler</td>\n",
       "    </tr>\n",
       "    <tr>\n",
       "      <th>1</th>\n",
       "      <td>http://www.macmhb.org/subabuse02/satp.htm</td>\n",
       "      <td>Health</td>\n",
       "      <td>[http, www, macmhb, org, subabuse, satp, htm]</td>\n",
       "      <td>[http, www, macmhb, org, subabus, satp, htm]</td>\n",
       "      <td>http www macmhb org subabus satp htm</td>\n",
       "    </tr>\n",
       "    <tr>\n",
       "      <th>2</th>\n",
       "      <td>http://www.merz-sw.com/</td>\n",
       "      <td>Business</td>\n",
       "      <td>[http, www, merz, sw, com]</td>\n",
       "      <td>[http, www, merz, sw, com]</td>\n",
       "      <td>http www merz sw com</td>\n",
       "    </tr>\n",
       "    <tr>\n",
       "      <th>3</th>\n",
       "      <td>http://www.wslha.org/</td>\n",
       "      <td>Society</td>\n",
       "      <td>[http, www, wslha, org]</td>\n",
       "      <td>[http, www, wslha, org]</td>\n",
       "      <td>http www wslha org</td>\n",
       "    </tr>\n",
       "    <tr>\n",
       "      <th>4</th>\n",
       "      <td>http://www.computerandvideogames.com/news/news...</td>\n",
       "      <td>Games</td>\n",
       "      <td>[http, www, computerandvideogames, com, news, ...</td>\n",
       "      <td>[http, www, computerandvideogam, com, news, ne...</td>\n",
       "      <td>http www computerandvideogam com news news sto...</td>\n",
       "    </tr>\n",
       "  </tbody>\n",
       "</table>\n",
       "</div>"
      ],
      "text/plain": [
       "                                                 url      group  \\\n",
       "0    http://roots.iai.uni-bonn.de/research/jmangler/  Computers   \n",
       "1          http://www.macmhb.org/subabuse02/satp.htm     Health   \n",
       "2                            http://www.merz-sw.com/   Business   \n",
       "3                              http://www.wslha.org/    Society   \n",
       "4  http://www.computerandvideogames.com/news/news...      Games   \n",
       "\n",
       "                                      text_tokenized  \\\n",
       "0  [http, roots, iai, uni, bonn, de, research, jm...   \n",
       "1      [http, www, macmhb, org, subabuse, satp, htm]   \n",
       "2                         [http, www, merz, sw, com]   \n",
       "3                            [http, www, wslha, org]   \n",
       "4  [http, www, computerandvideogames, com, news, ...   \n",
       "\n",
       "                                        text_stemmed  \\\n",
       "0  [http, root, iai, uni, bonn, de, research, jma...   \n",
       "1       [http, www, macmhb, org, subabus, satp, htm]   \n",
       "2                         [http, www, merz, sw, com]   \n",
       "3                            [http, www, wslha, org]   \n",
       "4  [http, www, computerandvideogam, com, news, ne...   \n",
       "\n",
       "                                           text_sent  \n",
       "0        http root iai uni bonn de research jmangler  \n",
       "1               http www macmhb org subabus satp htm  \n",
       "2                               http www merz sw com  \n",
       "3                                 http www wslha org  \n",
       "4  http www computerandvideogam com news news sto...  "
      ]
     },
     "execution_count": 31,
     "metadata": {},
     "output_type": "execute_result"
    }
   ],
   "source": [
    "data.head()"
   ]
  },
  {
   "cell_type": "markdown",
   "metadata": {},
   "source": [
    "### CREATING/PLOTING A WORDCLOUD"
   ]
  },
  {
   "cell_type": "markdown",
   "metadata": {},
   "source": [
    "- plota a wordcloud to see the most used word for each of the following class of urls"
   ]
  },
  {
   "cell_type": "code",
   "execution_count": 32,
   "metadata": {},
   "outputs": [],
   "source": [
    "def plot_wordcloud(text, mask=None, max_words=400, max_font_size=120, figure_size=(24.0,16.0), \n",
    "                   title = None, title_size=40, image_color=False):\n",
    "    stopwords = set(STOPWORDS)\n",
    "    more_stopwords = {'com','http'}\n",
    "    stopwords = stopwords.union(more_stopwords)\n",
    "\n",
    "    wordcloud = WordCloud(background_color='white',\n",
    "                    stopwords = stopwords,\n",
    "                    max_words = max_words,\n",
    "                    max_font_size = max_font_size, \n",
    "                    random_state = 42,\n",
    "                    mask = mask)\n",
    "    wordcloud.generate(text)\n",
    "    \n",
    "    plt.figure(figsize=figure_size)\n",
    "    if image_color:\n",
    "        image_colors = ImageColorGenerator(mask);\n",
    "        plt.imshow(wordcloud.recolor(color_func=image_colors), interpolation=\"bilinear\");\n",
    "        plt.title(title, fontdict={'size': title_size,  \n",
    "                                  'verticalalignment': 'bottom'})\n",
    "    else:\n",
    "        plt.imshow(wordcloud);\n",
    "        plt.title(title, fontdict={'size': title_size, 'color': 'green', \n",
    "                                  'verticalalignment': 'bottom'})\n",
    "    plt.axis('off');\n",
    "    plt.tight_layout()  "
   ]
  },
  {
   "cell_type": "markdown",
   "metadata": {},
   "source": [
    "## The above chart shows that the data is unbalanced, so we need to balance it\n",
    "- but first we needed to change the url parameters to integers so imblearn can sample\n",
    "- then we now use SMOTE from over_sampling in imbllearn to sample the set\n",
    "- then confirm if our dataset is now balanced as expectd"
   ]
  },
  {
   "cell_type": "code",
   "execution_count": 33,
   "metadata": {},
   "outputs": [],
   "source": [
    "#create count_vectorizer and \"TFIDF_term friquency inverse document frequency vectorizer\" object\n",
    "# cv = CountVectorizer()\n",
    "cv = TfidfVectorizer()\n",
    "#help(CountVectorizer())\n",
    "feature = cv.fit_transform(data.text_sent) #"
   ]
  },
  {
   "cell_type": "code",
   "execution_count": 34,
   "metadata": {
    "scrolled": true
   },
   "outputs": [
    {
     "data": {
      "text/plain": [
       "array([[0., 0., 0., ..., 0., 0., 0.],\n",
       "       [0., 0., 0., ..., 0., 0., 0.],\n",
       "       [0., 0., 0., ..., 0., 0., 0.],\n",
       "       [0., 0., 0., ..., 0., 0., 0.],\n",
       "       [0., 0., 0., ..., 0., 0., 0.]])"
      ]
     },
     "execution_count": 34,
     "metadata": {},
     "output_type": "execute_result"
    }
   ],
   "source": [
    "#confirming if our text has been vectorised\n",
    "feature[10:15].toarray() "
   ]
  },
  {
   "cell_type": "code",
   "execution_count": 43,
   "metadata": {
    "scrolled": true
   },
   "outputs": [
    {
     "name": "stdout",
     "output_type": "stream",
     "text": [
      "##---THE UNSAMPLED DATASET----##\n",
      "\n",
      "\n",
      "Counter({'Arts': 25410, 'Society': 24170, 'Business': 23975, 'Computers': 11858, 'Science': 11082, 'Recreation': 10755, 'Sports': 10169, 'Shopping': 9548, 'Health': 6094, 'Reference': 5804, 'Games': 5612, 'Kids': 4678, 'Adult': 3492, 'Home': 2780, 'News': 871})\n",
      "\n",
      "\n",
      "##---THE UNSAMPLED DATASET----##\n",
      "\n",
      "\n",
      "Counter({'Computers': 25410, 'Health': 25410, 'Business': 25410, 'Society': 25410, 'Games': 25410, 'Sports': 25410, 'Arts': 25410, 'Recreation': 25410, 'Kids': 25410, 'Adult': 25410, 'Home': 25410, 'Shopping': 25410, 'Reference': 25410, 'Science': 25410, 'News': 25410})\n"
     ]
    }
   ],
   "source": [
    "#import imblearn to balance the classes\n",
    "import imblearn\n",
    "from imblearn.over_sampling import SMOTE\n",
    "from numpy import where\n",
    "from collections import Counter\n",
    "X = feature\n",
    "y = data['group']\n",
    "counter = Counter(y)\n",
    "print(\"##---THE UNSAMPLED DATASET----##\\n\\n\")\n",
    "print(counter)\n",
    "\n",
    "from imblearn import under_sampling, over_sampling\n",
    "from imblearn.over_sampling import SMOTE\n",
    "oversample = SMOTE()\n",
    "X,y = oversample.fit_resample(X,y)\n",
    "counter = Counter(y)\n",
    "print(\"\\n\\n##---THE UNSAMPLED DATASET----##\\n\\n\")\n",
    "print(counter)"
   ]
  },
  {
   "cell_type": "code",
   "execution_count": 44,
   "metadata": {
    "scrolled": true
   },
   "outputs": [
    {
     "data": {
      "image/png": "[encoded data removed]",
      "text/plain": [
       "<Figure size 864x864 with 1 Axes>"
      ]
     },
     "metadata": {},
     "output_type": "display_data"
    }
   ],
   "source": [
    "colors = ['#ff9999','#66b3ff','#99ff99','#ffcc99']\n",
    "y.value_counts().plot(kind = \"pie\",figsize = (12,12),y = \"url\",\n",
    "                                       label = \"Type\",\n",
    "                                       autopct='%1.2f%%', colors = colors);"
   ]
  },
  {
   "cell_type": "code",
   "execution_count": null,
   "metadata": {},
   "outputs": [],
   "source": []
  },
  {
   "cell_type": "markdown",
   "metadata": {},
   "source": [
    "now our dataset is balanced , and we can now continue building the base model"
   ]
  },
  {
   "cell_type": "markdown",
   "metadata": {},
   "source": [
    "## Spliting the Dataset to Train and Test"
   ]
  },
  {
   "cell_type": "code",
   "execution_count": 37,
   "metadata": {},
   "outputs": [],
   "source": [
    "X_train, X_test, y_train, y_test = train_test_split(X, y, test_size = .20, random_state = 42)"
   ]
  },
  {
   "cell_type": "markdown",
   "metadata": {},
   "source": [
    " ## Using Multinomial Naive Bayesian with TF-IDF"
   ]
  },
  {
   "cell_type": "code",
   "execution_count": 38,
   "metadata": {
    "scrolled": true
   },
   "outputs": [
    {
     "name": "stdout",
     "output_type": "stream",
     "text": [
      "0.8713170667716122 \n",
      "\n",
      "### Model Built ###\n",
      "\n",
      "              precision    recall  f1-score   support\n",
      "\n",
      "       Adult       0.88      0.95      0.91      5176\n",
      "        Arts       0.74      0.34      0.46      5223\n",
      "    Business       0.80      0.09      0.16      5120\n",
      "   Computers       0.75      0.64      0.69      5061\n",
      "       Games       0.77      0.92      0.83      4995\n",
      "      Health       0.68      0.91      0.78      5054\n",
      "        Home       0.88      0.96      0.92      5093\n",
      "        Kids       0.79      0.78      0.78      5068\n",
      "        News       0.91      1.00      0.95      5036\n",
      "  Recreation       0.69      0.66      0.67      5133\n",
      "   Reference       0.75      0.88      0.81      5063\n",
      "     Science       0.76      0.71      0.73      5063\n",
      "    Shopping       0.36      0.90      0.52      5054\n",
      "     Society       0.76      0.24      0.36      5041\n",
      "      Sports       0.80      0.78      0.79      5050\n",
      "\n",
      "    accuracy                           0.71     76230\n",
      "   macro avg       0.75      0.72      0.69     76230\n",
      "weighted avg       0.75      0.71      0.69     76230\n",
      "\n"
     ]
    }
   ],
   "source": [
    "# Train the model\n",
    "mnb = MultinomialNB()\n",
    "mnb.fit(X_train, y_train)\n",
    "\n",
    "\n",
    "# Test the mode (score, predictions, confusion matrix, classification report)\n",
    "score_mnb = mnb.score(X_train, y_train)\n",
    "predictions_mnb = mnb.predict(X_test)\n",
    "cmatrix_mnb_tfidf = confusion_matrix(y_test, predictions_mnb)\n",
    "creport_mnb_tfidf = classification_report(y_test, predictions_mnb)\n",
    "\n",
    "print(score_mnb,\"\\n\\n### Model Built ###\\n\")\n",
    "print(classification_report(y_test, predictions_mnb))"
   ]
  },
  {
   "cell_type": "code",
   "execution_count": null,
   "metadata": {},
   "outputs": [
    {
     "name": "stdout",
     "output_type": "stream",
     "text": [
      "Fitting 5 folds for each of 240 candidates, totalling 1200 fits\n"
     ]
    }
   ],
   "source": [
    "from sklearn.model_selection import GridSearchCV\n",
    "from sklearn import svm\n",
    "\n",
    "hyper = {'C':[0.05,0.1,0.2,0.3,0.25,0.4,0.5,0.6,0.7,0.8,0.9,1],\n",
    "         'gamma':[0.1,0.2,0.3,0.4,0.5,0.6,0.7,0.8,0.9,1.0],\n",
    "         'kernel':['rbf','linear']\n",
    "        }\n",
    "\n",
    "gd=GridSearchCV(estimator=svm.SVC(),param_grid=hyper,verbose=True)\n",
    "\n",
    "gd.fit(X_train, y_train)\n",
    "print(gd.best_score_)\n",
    "print(gd.best_estimator_)"
   ]
  },
  {
   "cell_type": "code",
   "execution_count": null,
   "metadata": {},
   "outputs": [],
   "source": []
  },
  {
   "cell_type": "markdown",
   "metadata": {},
   "source": [
    "## USING LOGISTIC REGRESSION"
   ]
  },
  {
   "cell_type": "code",
   "execution_count": 39,
   "metadata": {},
   "outputs": [
    {
     "data": {
      "text/plain": [
       "LogisticRegression()"
      ]
     },
     "execution_count": 39,
     "metadata": {},
     "output_type": "execute_result"
    }
   ],
   "source": [
    "# create lr object\n",
    "lr = LogisticRegression()\n",
    "lr.fit(X_train,y_train)"
   ]
  },
  {
   "cell_type": "code",
   "execution_count": 40,
   "metadata": {},
   "outputs": [
    {
     "name": "stdout",
     "output_type": "stream",
     "text": [
      "0.6902105470287289 <--: lr training score\n"
     ]
    }
   ],
   "source": [
    "print(lr.score(X_train,y_train),\"<--: lr training score\")\n",
    "predictions_lgs_tfidf = lr.predict(X_test)\n",
    "cmatrix_lgs_tfidf = confusion_matrix(predictions_lgs_tfidf, y_test)\n",
    "creport_lgs_tfidf = classification_report(predictions_lgs_tfidf, y_test)"
   ]
  },
  {
   "cell_type": "code",
   "execution_count": 41,
   "metadata": {},
   "outputs": [
    {
     "name": "stdout",
     "output_type": "stream",
     "text": [
      "              precision    recall  f1-score   support\n",
      "\n",
      "       Adult       0.81      0.89      0.85      4692\n",
      "        Arts       0.44      0.44      0.44      5308\n",
      "    Business       0.70      0.29      0.41     12119\n",
      "   Computers       0.45      0.57      0.50      4003\n",
      "       Games       0.74      0.79      0.77      4683\n",
      "      Health       0.71      0.76      0.73      4772\n",
      "        Home       0.88      0.89      0.89      5028\n",
      "        Kids       0.66      0.73      0.69      4547\n",
      "        News       0.96      0.95      0.96      5041\n",
      "  Recreation       0.37      0.59      0.46      3224\n",
      "   Reference       0.75      0.70      0.73      5453\n",
      "     Science       0.57      0.69      0.62      4133\n",
      "    Shopping       0.58      0.55      0.56      5307\n",
      "     Society       0.42      0.44      0.43      4800\n",
      "      Sports       0.54      0.88      0.67      3120\n",
      "\n",
      "    accuracy                           0.64     76230\n",
      "   macro avg       0.64      0.68      0.65     76230\n",
      "weighted avg       0.65      0.64      0.63     76230\n",
      "\n"
     ]
    }
   ],
   "source": [
    "print(creport_lgs_tfidf)"
   ]
  },
  {
   "cell_type": "code",
   "execution_count": null,
   "metadata": {},
   "outputs": [],
   "source": []
  },
  {
   "cell_type": "code",
   "execution_count": null,
   "metadata": {},
   "outputs": [],
   "source": []
  }
 ],
 "metadata": {
  "accelerator": "GPU",
  "colab": {
   "collapsed_sections": [],
   "name": "URL classifier.ipynb",
   "provenance": []
  },
  "kernelspec": {
   "display_name": "Python 3 (ipykernel)",
   "language": "python",
   "name": "python3"
  },
  "language_info": {
   "codemirror_mode": {
    "name": "ipython",
    "version": 3
   },
   "file_extension": ".py",
   "mimetype": "text/x-python",
   "name": "python",
   "nbconvert_exporter": "python",
   "pygments_lexer": "ipython3",
   "version": "3.9.12"
  }
 },
 "nbformat": 4,
 "nbformat_minor": 1
}
